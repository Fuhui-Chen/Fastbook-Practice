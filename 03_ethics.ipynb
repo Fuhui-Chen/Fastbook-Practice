{
  "nbformat": 4,
  "nbformat_minor": 0,
  "metadata": {
    "colab": {
      "name": "03_ethics.ipynb",
      "provenance": [],
      "collapsed_sections": [],
      "authorship_tag": "ABX9TyMhXDP4kELkKciApGm9fJxh",
      "include_colab_link": true
    },
    "kernelspec": {
      "name": "python3",
      "display_name": "Python 3"
    }
  },
  "cells": [
    {
      "cell_type": "markdown",
      "metadata": {
        "id": "view-in-github",
        "colab_type": "text"
      },
      "source": [
        "<a href=\"https://colab.research.google.com/github/Fuhui-Chen/Fastbook-Practice/blob/master/03_ethics.ipynb\" target=\"_parent\"><img src=\"https://colab.research.google.com/assets/colab-badge.svg\" alt=\"Open In Colab\"/></a>"
      ]
    },
    {
      "cell_type": "markdown",
      "metadata": {
        "id": "OtpL3T7H7PgU",
        "colab_type": "text"
      },
      "source": [
        "# **Topics in Data Ethics**\n",
        "\n",
        "1.The need for recourse and accountability\n",
        "2.Feedback loops\n",
        "3.Bias\n",
        "4.Disinformation"
      ]
    },
    {
      "cell_type": "markdown",
      "metadata": {
        "id": "yaUxBnQa-lpb",
        "colab_type": "text"
      },
      "source": [
        "# Identifying and Addressing Ethical Issues\n",
        "1.Analyze a project you are working on.\n",
        "2.Implement processes at your company to find and address ethical risks.\n",
        "3.Support good policy.\n",
        "4.Increase diversity."
      ]
    },
    {
      "cell_type": "markdown",
      "metadata": {
        "id": "IMe63nwe_Tvw",
        "colab_type": "text"
      },
      "source": [
        "# Analyze a Project You Are Working On\n",
        "1.Should we even be doing this?\n",
        "2.What bias is in the data?\n",
        "3.Can the code and data be audited?\n",
        "4.What are the error rates for different sub-groups?\n",
        "5.What is the accuracy of a simple rule-based alternative?\n",
        "6.What processes are in place to handle appeals or mistakes?\n",
        "7.How diverse is the team that built it?"
      ]
    },
    {
      "cell_type": "markdown",
      "metadata": {
        "id": "PhUUWCD7An_D",
        "colab_type": "text"
      },
      "source": [
        "# Processes to Implement\n",
        "1.Whose interests, desires, skills, experiences, and values have we simply assumed, rather than actually consulted?\n",
        "2.Who are all the stakeholders who will be directly affected by our product? \n",
        "3.How have their interests been protected? How do we know what their interests really are—have we asked?\n",
        "4.Who/which groups and individuals will be indirectly affected in significant ways?\n",
        "5.Who might use this product that we didn’t expect to use it, or for purposes we didn’t initially intend?"
      ]
    },
    {
      "cell_type": "markdown",
      "metadata": {
        "id": "MpLWsl-9A_MZ",
        "colab_type": "text"
      },
      "source": [
        "# policy and regulations\n",
        "We need both regulatory and legal changes, and the ethical behavior of individuals. Individual behavior change can’t address misaligned profit incentives, externalities (where corporations reap large profits while offloading their costs and harms to the broader society), or systemic failures. However, the law will never cover all edge cases, and it is important that individual software developers and data scientists are equipped to make ethical decisions in practice."
      ]
    },
    {
      "cell_type": "code",
      "metadata": {
        "id": "GilS1W3WuWgP",
        "colab_type": "code",
        "colab": {}
      },
      "source": [
        ""
      ],
      "execution_count": 0,
      "outputs": []
    }
  ]
}